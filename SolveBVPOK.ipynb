{
 "cells": [
  {
   "cell_type": "code",
   "execution_count": 50,
   "metadata": {},
   "outputs": [],
   "source": [
    "#Se importan las librerias requeridas para el correcto funcionamiento del código.\n",
    "from scipy import interpolate \n",
    "import numpy as np\n",
    "import matplotlib.pyplot as plt\n",
    "from scipy import integrate\n",
    "from scipy.optimize import minimize\n",
    "from scipy.optimize import newton"
   ]
  },
  {
   "cell_type": "code",
   "execution_count": 133,
   "metadata": {},
   "outputs": [
    {
     "name": "stdout",
     "output_type": "stream",
     "text": [
      "[0.00000000e+00 6.41746414e-04 5.76583784e-03 1.59614406e-02\n",
      " 3.11239339e-02 5.10977302e-02 7.56778713e-02 1.04612132e-01\n",
      " 1.37603606e-01 1.74313759e-01 2.14365892e-01 2.57349019e-01\n",
      " 3.02822072e-01 3.50318439e-01 3.99350740e-01 4.49415839e-01\n",
      " 5.00000000e-01 5.50584161e-01 6.00649260e-01 6.49681561e-01\n",
      " 6.97177928e-01 7.42650981e-01 7.85634108e-01 8.25686241e-01\n",
      " 8.62396394e-01 8.95387868e-01 9.24322129e-01 9.48902270e-01\n",
      " 9.68876066e-01 9.84038559e-01 9.94234162e-01 9.99358254e-01\n",
      " 1.00000000e+00]\n",
      "[0. 0. 0. 0. 0. 0. 0. 0. 0. 0. 0. 0. 0. 0. 0. 0. 0. 0. 0. 0. 0. 0. 0. 0.\n",
      " 0. 0. 0. 0. 0.]\n"
     ]
    }
   ],
   "source": [
    "global x1 #Definimos la variable global de x1\n",
    "x1 = 0\n",
    "global y1 #Definimos la variable global de y1\n",
    "y1 = 0\n",
    "global x2 #Definimos la variable global de x2\n",
    "x2 = 1\n",
    "global y2 #Definimos la variable global de y2\n",
    "y2 = -5\n",
    "global nc #Definimos la variable global de la dimension del problema\n",
    "nc = 29\n",
    "global k #Definimos la variable del grado del Bspline\n",
    "k = 3\n",
    "global np #Definimos la variable global de la dimension del problema\n",
    "nbp = nc + k + 1\n",
    "global t #Definimos los nodos de control, igualmente espaciados, de tamaño nc\n",
    "t = np.linspace(0,x2,nbp)\n",
    "tt = [0.5*(x1+x2)-0.5*(x2-x1)*(np.cos((2 * i + 1) * np.pi / (2 * (nbp-2)))) for i in range(nbp-2)]\n",
    "t=np.concatenate([[0], tt, [x2]])\n",
    "print(t)\n",
    "xx = np.linspace(0,1,100) #Creamos un vector de valores para x\n",
    "#c = np.linspace(-0.1,-.2, nc) #Creamos un vector de nodos de control\n",
    "c= np.zeros(nc)\n",
    "print(c)"
   ]
  },
  {
   "cell_type": "code",
   "execution_count": 134,
   "metadata": {},
   "outputs": [],
   "source": [
    "bandera = 3 #Se cambia el valor dependiendo de la funcion y su derivada a usar\n",
    "if (bandera == 1): #Se toma una funcion lineal\n",
    "    funcion = lambda x: y1 + ((x-x1)/(x2-x1))*(y2-y1)\n",
    "    derivada_funcion = lambda x: (y2-y1)/(x2-x1)\n",
    "elif (bandera == 2): #Se toma una funcion cuadratica\n",
    "    funcion = lambda x: x*((x-x2)+y2)/x2\n",
    "    derivada_funcion = lambda x: (x-x2+y2)/x2+x/x2\n",
    "elif (bandera == 3):#Se toma una funcion exponencial\n",
    "    a=1\n",
    "    funcion = lambda x: y2*(np.exp(-a*x)-1)/(np.exp(-a*x2)-1)\n",
    "    derivada_funcion = lambda x: (-a*np.exp(-a*x)*y2)/(np.exp(-a*x2)-1)\n",
    "funcion_vector = np.vectorize(funcion) #Se vectoriza la funcion con tal de que si recibe un arreglo de numeros, regrese un arreglo\n",
    "derivada_vector = np.vectorize(derivada_funcion)"
   ]
  },
  {
   "cell_type": "code",
   "execution_count": 135,
   "metadata": {},
   "outputs": [],
   "source": [
    "#Funcion basada en la propuesta por:\n",
    "#Christian. (2017). The Brachistochrone problem. agosto 09, 2021, de Scipy Python Sitio web: https://scipython.com/blog/the-brachistochrone-problem/\n",
    "def cycloid(x2, y2, N): #Definimos la funcion auxiliar para graficar la cicloide, que devuelve los valores de x, y y el radio\n",
    "   \n",
    "    \n",
    "    def f(theta): \n",
    "        return -y2/x2 - (1-np.cos(theta))/(theta-np.sin(theta))\n",
    "    theta2 = newton(f, np.pi/20, maxiter= 150)\n",
    "\n",
    "    \n",
    "    R = -y2 / (1 - np.cos(theta2))\n",
    "\n",
    "    theta = np.linspace(0, theta2, N)\n",
    "    x = R * (theta - np.sin(theta))\n",
    "    y = R * (1 - np.cos(theta))\n",
    "\n",
    "    return x, -y, R #Se regresan los valores para la construccion de la cicloide"
   ]
  },
  {
   "cell_type": "code",
   "execution_count": 136,
   "metadata": {},
   "outputs": [],
   "source": [
    "#Funcion que regresa los valores de la cicloide dados los valores de x y un radio R dados\n",
    "def ycycloid(x, R):\n",
    "    def f(theta):\n",
    "        return R * (theta - np.sin(theta))-x \n",
    "\n",
    "    theta1 = newton(f, np.pi/20,maxiter=150)\n",
    "    y = R * (1 - np.cos(theta1))\n",
    "    return  -y"
   ]
  },
  {
   "cell_type": "code",
   "execution_count": 137,
   "metadata": {},
   "outputs": [],
   "source": [
    "def B(x, k, i, t): #Funcion que crea las bases Bspline\n",
    "    if k == 0:\n",
    "        if t[i] <= x < t[i+1]:\n",
    "            return 1.0\n",
    "        else:\n",
    "            return 0.0\n",
    "    if t[i+k] == t[i]:\n",
    "        c1 = 0.0\n",
    "    else:\n",
    "        c1 = (x - t[i])/(t[i+k] - t[i]) * B(x, k-1, i, t)\n",
    "    if t[i+k+1] == t[i+1]:\n",
    "        c2 = 0.0\n",
    "    else:\n",
    "        c2 = (t[i+k+1] - x)/(t[i+k+1] - t[i+1]) * B(x, k-1, i+1, t)\n",
    "    return c1 + c2 #Devuelve el valor de la base Bspline evaluada en x"
   ]
  },
  {
   "cell_type": "code",
   "execution_count": 138,
   "metadata": {},
   "outputs": [],
   "source": [
    "def bspline(x, t, c, k): #Funcion Bspline, usa las bases de la funcion anterior\n",
    "    n = len(t) - k - 1\n",
    "    assert (n >= k+1) and (len(c) >= n)\n",
    "    return sum(c[i] * B(x, k, i, t) for i in range(n)) #Devuelve el valor del Bspline (suma de las bases) evaluada en x"
   ]
  },
  {
   "cell_type": "code",
   "execution_count": 139,
   "metadata": {},
   "outputs": [],
   "source": [
    "def derivadaBase(x, k, i, t): #Funcion que deriva las bases Bspline\n",
    "    derivada = k*((B(x,k-1,i,t)/(t[i+k]-t[i])) - (B(x,k-1,i+1,t)/(t[i+k+1]-t[i+1])))\n",
    "    return derivada #Devuelve la derivada de la base Bspline evaluada en x"
   ]
  },
  {
   "cell_type": "code",
   "execution_count": 140,
   "metadata": {},
   "outputs": [],
   "source": [
    "def derivada(x, t, c, k): #Funcion que calcula la derivada de la función Bspline\n",
    "    n = len(t) - k - 1\n",
    "    assert (n >= k+1) and (len(c) >= n)\n",
    "    return sum(c[i] * derivadaBase(x, k, i, t) for i in range(n)) #Devuelve la derivada Bspline (suma de las bases) evaluada en x"
   ]
  },
  {
   "cell_type": "code",
   "execution_count": 141,
   "metadata": {},
   "outputs": [],
   "source": [
    "def J_for_min(C): #Definimos la funcion a optimizar. Recibe una estimacion de los coeficientes c_i\n",
    "    spl = lambda x: bspline(x, t, C, k) #Definimos la funcion Bspline con la que se va a trabajar\n",
    "    spl2 = lambda x: derivada(x, t, C, k) #Definimos la derivada del Bspline\n",
    "    spl3 = np.vectorize(spl) #Dado que nuestra funcion no recibe vectores, aplicamos la funcion vectorize, que convierte la\n",
    "    #funcion para recibir un arreglo de numeros\n",
    "    spl4 = np.vectorize(spl2)\n",
    "    #La funcion J es la funcion que vamos a integrar en su dominio\n",
    "    J = lambda xx: np.sqrt((1+(spl4(xx)+ derivada_vector(xx))**2)/(y1  - (spl3(xx) + funcion_vector(xx))))\n",
    "    #La integral es la que buscamos minimizar, por lo que se devuelve su valor escalar\n",
    "    return integrate.fixed_quad(J,0,1, n = 64)[0] #La funcion es escalar para que pueda optimizarse en pasos posteriores\n",
    "\n",
    "def constraint4y(C):\n",
    "    spl = lambda x: bspline(x, t, C, k) #Definimos la funcion Bspline con la que se va a trabajar\n",
    "    spl3 = np.vectorize(spl) #Dado que nuestra funcion no recibe vectores, aplicamos la funcion vectorize, que convierte la\n",
    "    #funcion para recibir un arreglo de numeros\n",
    "    return (y1  - (spl3(t) + funcion_vector(t))+1e-6)\n",
    "const={'type':'ineq','fun':constraint4y}"
   ]
  },
  {
   "cell_type": "code",
   "execution_count": 142,
   "metadata": {},
   "outputs": [],
   "source": [
    "C0 = c #Se crea un vector como estimacion inicial para la integracion"
   ]
  },
  {
   "cell_type": "code",
   "execution_count": 143,
   "metadata": {},
   "outputs": [
    {
     "data": {
      "image/png": "[encoded data removed]",
      "text/plain": [
       "<Figure size 432x288 with 1 Axes>"
      ]
     },
     "metadata": {
      "needs_background": "light"
     },
     "output_type": "display_data"
    }
   ],
   "source": [
    "#Graficamos la funcion con nuestra estimacion inicial\n",
    "xx = np.linspace(0,x2,100)\n",
    "x,y, R = cycloid(x2,y2,100)\n",
    "result = np.array([bspline(x, t,C0,k) + funcion_vector(x) for x in xx])\n",
    "fig, ax = plt.subplots()\n",
    "ax.plot(xx, result) \n",
    "ax.plot(x,y)\n",
    "ax.set_xlabel('x')\n",
    "ax.set_ylabel('y')\n",
    "ax.plot()\n",
    "ax.grid(True)\n",
    "plt.show()"
   ]
  },
  {
   "cell_type": "code",
   "execution_count": 144,
   "metadata": {},
   "outputs": [
    {
     "name": "stdout",
     "output_type": "stream",
     "text": [
      "4.505976988971408\n"
     ]
    }
   ],
   "source": [
    "#Probamos que funcione la funcion para optimizar\n",
    "print(J_for_min(C0))\n",
    "#print(constraint4y(C0))"
   ]
  },
  {
   "cell_type": "code",
   "execution_count": 145,
   "metadata": {},
   "outputs": [
    {
     "name": "stdout",
     "output_type": "stream",
     "text": [
      "Warning: Desired error not necessarily achieved due to precision loss.\n",
      "         Current function value: 4.490499\n",
      "         Iterations: 200\n",
      "         Function evaluations: 12680\n",
      "         Gradient evaluations: 409\n"
     ]
    }
   ],
   "source": [
    "#Calculamos el minimo de la funcion\n",
    "minimo = minimize(J_for_min,C0,method='CG',options={'gtol': 1e-08,'disp': True},jac=False)\n",
    "#minimo = minimize(J_for_min,C0,method='trust-constr',constraints=const,\\\n",
    "#        options={'xtol': 1e-08,'gtol': 1e-08,'disp': True,'initial_constr_penalty': 100.0, 'initial_tr_radius': 1})"
   ]
  },
  {
   "cell_type": "code",
   "execution_count": 146,
   "metadata": {},
   "outputs": [
    {
     "name": "stdout",
     "output_type": "stream",
     "text": [
      "Valor minimo 4.490498805184556 encontrado en\n",
      " [-1.10552364e+00 -9.38981559e-01 -1.00488556e+00 -9.44551331e-01\n",
      " -9.19397200e-01 -8.64116399e-01 -8.07443200e-01 -7.42626852e-01\n",
      " -6.67048908e-01 -5.91993319e-01 -5.17011799e-01 -4.43380683e-01\n",
      " -3.73274624e-01 -3.07977368e-01 -2.48655423e-01 -1.96011385e-01\n",
      " -1.50414232e-01 -1.11943335e-01 -8.02939017e-02 -5.51895483e-02\n",
      " -3.56777492e-02 -2.02678365e-02 -1.14685069e-02 -5.12373021e-03\n",
      " -1.82792107e-03 -1.58699492e-04  1.87627652e-04  1.93586471e-04\n",
      " -3.35040733e-04]\n"
     ]
    }
   ],
   "source": [
    "#La entrada x del diccionario  que regresa minimize es nuestro parametro optimo\n",
    "print(\"Valor minimo {} encontrado en\\n {}\".format(minimo.fun,minimo.x))\n"
   ]
  },
  {
   "cell_type": "code",
   "execution_count": 147,
   "metadata": {},
   "outputs": [
    {
     "data": {
      "image/png": "[encoded data removed]",
      "text/plain": [
       "<Figure size 432x288 with 1 Axes>"
      ]
     },
     "metadata": {
      "needs_background": "light"
     },
     "output_type": "display_data"
    }
   ],
   "source": [
    "#Graficamos la solucion aproximada calculada en este código\n",
    "result = np.array([bspline(x, t,minimo.x,k) + funcion_vector(x) for x in xx])\n",
    "fig, ax = plt.subplots()\n",
    "ax.plot(xx, result) \n",
    "ax.plot()\n",
    "ax.grid(True)\n",
    "plt.show() "
   ]
  },
  {
   "cell_type": "code",
   "execution_count": 148,
   "metadata": {},
   "outputs": [],
   "source": [
    "#Generamos los valores de la cicloide para su comparacion\n",
    "x,y, R = cycloid(x2,y2,100)"
   ]
  },
  {
   "cell_type": "code",
   "execution_count": 149,
   "metadata": {},
   "outputs": [
    {
     "data": {
      "image/png": "[encoded data removed]",
      "text/plain": [
       "<Figure size 432x288 with 1 Axes>"
      ]
     },
     "metadata": {
      "needs_background": "light"
     },
     "output_type": "display_data"
    }
   ],
   "source": [
    "#Se comparan las soluciones exactas con las soluciones aproximadas calculadas\n",
    "fig, ax = plt.subplots()\n",
    "ax.plot(xx, result) \n",
    "ax.plot(x,y)\n",
    "ax.plot()\n",
    "ax.grid(True)\n",
    "plt.show() #Graficamos la aproximacion a la solucion del problema"
   ]
  },
  {
   "cell_type": "code",
   "execution_count": 150,
   "metadata": {},
   "outputs": [],
   "source": [
    "#Inicializamos los arreglos para calcular el error cuadrático medio\n",
    "yi = np.zeros(nbp) #Los valores exactos\n",
    "yi_hat = np.zeros(nbp) #Los valores estimados\n",
    "li = np.zeros(nbp) #Las longitudes de los intervalos\n",
    "for i in range(nbp-1):\n",
    "    li[i] = t[i+1] - t[i] \n",
    "    yi_hat[i] = bspline((t[i]+t[i+1])/2, t,minimo['x'],k) + funcion_vector((t[i]+t[i+1])/2)\n",
    "    yi[i] = ycycloid((t[i]+t[i+1])/2, R)\n",
    "E = np.sqrt(sum(((yi - yi_hat)**2)*li)) #Se calcula el error cuadrático medio"
   ]
  },
  {
   "cell_type": "code",
   "execution_count": 151,
   "metadata": {},
   "outputs": [
    {
     "data": {
      "text/plain": [
       "0.30570092521853887"
      ]
     },
     "execution_count": 151,
     "metadata": {},
     "output_type": "execute_result"
    }
   ],
   "source": [
    "E #El error cuadrático medio para nc = 16."
   ]
  },
  {
   "cell_type": "code",
   "execution_count": null,
   "metadata": {},
   "outputs": [],
   "source": []
  },
  {
   "cell_type": "code",
   "execution_count": null,
   "metadata": {},
   "outputs": [],
   "source": []
  }
 ],
 "metadata": {
  "kernelspec": {
   "display_name": "Python 3",
   "language": "python",
   "name": "python3"
  },
  "language_info": {
   "codemirror_mode": {
    "name": "ipython",
    "version": 3
   },
   "file_extension": ".py",
   "mimetype": "text/x-python",
   "name": "python",
   "nbconvert_exporter": "python",
   "pygments_lexer": "ipython3",
   "version": "3.7.4"
  }
 },
 "nbformat": 4,
 "nbformat_minor": 4
}
